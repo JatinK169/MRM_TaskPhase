{
  "nbformat": 4,
  "nbformat_minor": 0,
  "metadata": {
    "colab": {
      "name": "Untitled2.ipynb",
      "provenance": [],
      "authorship_tag": "ABX9TyMjlVVKXilUBDyD7Gi36i+o",
      "include_colab_link": true
    },
    "kernelspec": {
      "name": "python3",
      "display_name": "Python 3"
    }
  },
  "cells": [
    {
      "cell_type": "markdown",
      "metadata": {
        "id": "view-in-github",
        "colab_type": "text"
      },
      "source": [
        "<a href=\"https://colab.research.google.com/github/JatinK169/factorial-Large-no./blob/main/Untitled2.ipynb\" target=\"_parent\"><img src=\"https://colab.research.google.com/assets/colab-badge.svg\" alt=\"Open In Colab\"/></a>"
      ]
    },
    {
      "cell_type": "code",
      "metadata": {
        "id": "bIQD_8J9F0N4"
      },
      "source": [
        "import pandas as pd\r\n",
        "import numpy as nm\r\n",
        "import matplotlib.pyplot as plt"
      ],
      "execution_count": 1,
      "outputs": []
    },
    {
      "cell_type": "code",
      "metadata": {
        "id": "uTAGzG17GDOS"
      },
      "source": [
        "def cal_cost (theta,x,y):\r\n",
        "  m = len(y)\r\n",
        "  predictions = x.dot(theta)\r\n",
        "  cost (1/(2*m))*np.sum(np.sqyare(predictions-y))\r\n",
        "  return cost"
      ],
      "execution_count": 3,
      "outputs": []
    },
    {
      "cell_type": "code",
      "metadata": {
        "id": "wUsIdivlGxCl"
      },
      "source": [
        "def gradient_descent (x,y,theta,learning_rate=0.01,iterations = 100):\r\n",
        "  m= len(y)\r\n",
        "  cost_history = np.zeros(iterations)\r\n",
        "  theta_history = np.zeros((iterations,2))\r\n",
        "  for it in range(iterations):\r\n",
        "    prediction = np.dot(x,theta)\r\n",
        "    theta = theta - (1/m)*learning_rate*(x.T.dot(prediction-y))\r\n",
        "    theta_history[it,:]= theta.T\r\n",
        "    cost_history[it]= cal_cost(theta,x,y)\r\n",
        "  return theta,cost_history,theta_history\r\n",
        "\r\n"
      ],
      "execution_count": 6,
      "outputs": []
    }
  ]
}