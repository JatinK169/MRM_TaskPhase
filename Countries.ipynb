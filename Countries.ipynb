{
  "nbformat": 4,
  "nbformat_minor": 0,
  "metadata": {
    "colab": {
      "name": "Countries.ipynb",
      "provenance": [],
      "collapsed_sections": [],
      "authorship_tag": "ABX9TyNEYFywgWK4GroNg78CjpI6",
      "include_colab_link": true
    },
    "kernelspec": {
      "name": "python3",
      "display_name": "Python 3"
    }
  },
  "cells": [
    {
      "cell_type": "markdown",
      "metadata": {
        "id": "view-in-github",
        "colab_type": "text"
      },
      "source": [
        "<a href=\"https://colab.research.google.com/github/JatinK169/MRM_TaskPhase/blob/main/Countries.ipynb\" target=\"_parent\"><img src=\"https://colab.research.google.com/assets/colab-badge.svg\" alt=\"Open In Colab\"/></a>"
      ]
    },
    {
      "cell_type": "code",
      "metadata": {
        "id": "lkZMrjgggR9k"
      },
      "source": [
        "import pandas as pd\r\n",
        "import numpy as np\r\n",
        "import pandas as pd\r\n",
        "\r\n",
        "import matplotlib.pyplot as plt\r\n",
        "import seaborn as sns\r\n",
        "%matplotlib inline\r\n",
        "\r\n",
        "from sklearn.preprocessing import scale\r\n",
        "from sklearn.cluster import KMeans"
      ],
      "execution_count": 1,
      "outputs": []
    },
    {
      "cell_type": "code",
      "metadata": {
        "colab": {
          "base_uri": "https://localhost:8080/"
        },
        "id": "xUyB54mHBLM6",
        "outputId": "28669807-c2d8-4c94-d301-d2a03e91583a"
      },
      "source": [
        "from google.colab import drive\r\n",
        "drive.mount(\"/content/drive\")"
      ],
      "execution_count": 6,
      "outputs": [
        {
          "output_type": "stream",
          "text": [
            "Drive already mounted at /content/drive; to attempt to forcibly remount, call drive.mount(\"/content/drive\", force_remount=True).\n"
          ],
          "name": "stdout"
        }
      ]
    },
    {
      "cell_type": "code",
      "metadata": {
        "colab": {
          "base_uri": "https://localhost:8080/",
          "height": 198
        },
        "id": "6SnaBqf1BI2x",
        "outputId": "236a765d-638e-432f-95b6-de8b7e22925c"
      },
      "source": [
        "dat = pd.read_csv('/content/drive/MyDrive/Colab Notebooks/Country-data.csv')\r\n",
        "dat.head()"
      ],
      "execution_count": 7,
      "outputs": [
        {
          "output_type": "execute_result",
          "data": {
            "text/html": [
              "<div>\n",
              "<style scoped>\n",
              "    .dataframe tbody tr th:only-of-type {\n",
              "        vertical-align: middle;\n",
              "    }\n",
              "\n",
              "    .dataframe tbody tr th {\n",
              "        vertical-align: top;\n",
              "    }\n",
              "\n",
              "    .dataframe thead th {\n",
              "        text-align: right;\n",
              "    }\n",
              "</style>\n",
              "<table border=\"1\" class=\"dataframe\">\n",
              "  <thead>\n",
              "    <tr style=\"text-align: right;\">\n",
              "      <th></th>\n",
              "      <th>country</th>\n",
              "      <th>child_mort</th>\n",
              "      <th>exports</th>\n",
              "      <th>health</th>\n",
              "      <th>imports</th>\n",
              "      <th>income</th>\n",
              "      <th>inflation</th>\n",
              "      <th>life_expec</th>\n",
              "      <th>total_fer</th>\n",
              "      <th>gdpp</th>\n",
              "    </tr>\n",
              "  </thead>\n",
              "  <tbody>\n",
              "    <tr>\n",
              "      <th>0</th>\n",
              "      <td>Afghanistan</td>\n",
              "      <td>90.2</td>\n",
              "      <td>10.0</td>\n",
              "      <td>7.58</td>\n",
              "      <td>44.9</td>\n",
              "      <td>1610</td>\n",
              "      <td>9.44</td>\n",
              "      <td>56.2</td>\n",
              "      <td>5.82</td>\n",
              "      <td>553</td>\n",
              "    </tr>\n",
              "    <tr>\n",
              "      <th>1</th>\n",
              "      <td>Albania</td>\n",
              "      <td>16.6</td>\n",
              "      <td>28.0</td>\n",
              "      <td>6.55</td>\n",
              "      <td>48.6</td>\n",
              "      <td>9930</td>\n",
              "      <td>4.49</td>\n",
              "      <td>76.3</td>\n",
              "      <td>1.65</td>\n",
              "      <td>4090</td>\n",
              "    </tr>\n",
              "    <tr>\n",
              "      <th>2</th>\n",
              "      <td>Algeria</td>\n",
              "      <td>27.3</td>\n",
              "      <td>38.4</td>\n",
              "      <td>4.17</td>\n",
              "      <td>31.4</td>\n",
              "      <td>12900</td>\n",
              "      <td>16.10</td>\n",
              "      <td>76.5</td>\n",
              "      <td>2.89</td>\n",
              "      <td>4460</td>\n",
              "    </tr>\n",
              "    <tr>\n",
              "      <th>3</th>\n",
              "      <td>Angola</td>\n",
              "      <td>119.0</td>\n",
              "      <td>62.3</td>\n",
              "      <td>2.85</td>\n",
              "      <td>42.9</td>\n",
              "      <td>5900</td>\n",
              "      <td>22.40</td>\n",
              "      <td>60.1</td>\n",
              "      <td>6.16</td>\n",
              "      <td>3530</td>\n",
              "    </tr>\n",
              "    <tr>\n",
              "      <th>4</th>\n",
              "      <td>Antigua and Barbuda</td>\n",
              "      <td>10.3</td>\n",
              "      <td>45.5</td>\n",
              "      <td>6.03</td>\n",
              "      <td>58.9</td>\n",
              "      <td>19100</td>\n",
              "      <td>1.44</td>\n",
              "      <td>76.8</td>\n",
              "      <td>2.13</td>\n",
              "      <td>12200</td>\n",
              "    </tr>\n",
              "  </tbody>\n",
              "</table>\n",
              "</div>"
            ],
            "text/plain": [
              "               country  child_mort  exports  ...  life_expec  total_fer   gdpp\n",
              "0          Afghanistan        90.2     10.0  ...        56.2       5.82    553\n",
              "1              Albania        16.6     28.0  ...        76.3       1.65   4090\n",
              "2              Algeria        27.3     38.4  ...        76.5       2.89   4460\n",
              "3               Angola       119.0     62.3  ...        60.1       6.16   3530\n",
              "4  Antigua and Barbuda        10.3     45.5  ...        76.8       2.13  12200\n",
              "\n",
              "[5 rows x 10 columns]"
            ]
          },
          "metadata": {
            "tags": []
          },
          "execution_count": 7
        }
      ]
    },
    {
      "cell_type": "code",
      "metadata": {
        "colab": {
          "base_uri": "https://localhost:8080/",
          "height": 198
        },
        "id": "5enkvLGIDgzy",
        "outputId": "f2696ceb-9f33-4521-a7d9-50f970622ce5"
      },
      "source": [
        "dat['exports'] = dat['exports']*dat['gdpp']/100\r\n",
        "dat['imports'] = dat['imports']*dat['gdpp']/100\r\n",
        "dat['health'] = dat['health']*dat['gdpp']/100\r\n",
        "dat.head()"
      ],
      "execution_count": 8,
      "outputs": [
        {
          "output_type": "execute_result",
          "data": {
            "text/html": [
              "<div>\n",
              "<style scoped>\n",
              "    .dataframe tbody tr th:only-of-type {\n",
              "        vertical-align: middle;\n",
              "    }\n",
              "\n",
              "    .dataframe tbody tr th {\n",
              "        vertical-align: top;\n",
              "    }\n",
              "\n",
              "    .dataframe thead th {\n",
              "        text-align: right;\n",
              "    }\n",
              "</style>\n",
              "<table border=\"1\" class=\"dataframe\">\n",
              "  <thead>\n",
              "    <tr style=\"text-align: right;\">\n",
              "      <th></th>\n",
              "      <th>country</th>\n",
              "      <th>child_mort</th>\n",
              "      <th>exports</th>\n",
              "      <th>health</th>\n",
              "      <th>imports</th>\n",
              "      <th>income</th>\n",
              "      <th>inflation</th>\n",
              "      <th>life_expec</th>\n",
              "      <th>total_fer</th>\n",
              "      <th>gdpp</th>\n",
              "    </tr>\n",
              "  </thead>\n",
              "  <tbody>\n",
              "    <tr>\n",
              "      <th>0</th>\n",
              "      <td>Afghanistan</td>\n",
              "      <td>90.2</td>\n",
              "      <td>55.30</td>\n",
              "      <td>41.9174</td>\n",
              "      <td>248.297</td>\n",
              "      <td>1610</td>\n",
              "      <td>9.44</td>\n",
              "      <td>56.2</td>\n",
              "      <td>5.82</td>\n",
              "      <td>553</td>\n",
              "    </tr>\n",
              "    <tr>\n",
              "      <th>1</th>\n",
              "      <td>Albania</td>\n",
              "      <td>16.6</td>\n",
              "      <td>1145.20</td>\n",
              "      <td>267.8950</td>\n",
              "      <td>1987.740</td>\n",
              "      <td>9930</td>\n",
              "      <td>4.49</td>\n",
              "      <td>76.3</td>\n",
              "      <td>1.65</td>\n",
              "      <td>4090</td>\n",
              "    </tr>\n",
              "    <tr>\n",
              "      <th>2</th>\n",
              "      <td>Algeria</td>\n",
              "      <td>27.3</td>\n",
              "      <td>1712.64</td>\n",
              "      <td>185.9820</td>\n",
              "      <td>1400.440</td>\n",
              "      <td>12900</td>\n",
              "      <td>16.10</td>\n",
              "      <td>76.5</td>\n",
              "      <td>2.89</td>\n",
              "      <td>4460</td>\n",
              "    </tr>\n",
              "    <tr>\n",
              "      <th>3</th>\n",
              "      <td>Angola</td>\n",
              "      <td>119.0</td>\n",
              "      <td>2199.19</td>\n",
              "      <td>100.6050</td>\n",
              "      <td>1514.370</td>\n",
              "      <td>5900</td>\n",
              "      <td>22.40</td>\n",
              "      <td>60.1</td>\n",
              "      <td>6.16</td>\n",
              "      <td>3530</td>\n",
              "    </tr>\n",
              "    <tr>\n",
              "      <th>4</th>\n",
              "      <td>Antigua and Barbuda</td>\n",
              "      <td>10.3</td>\n",
              "      <td>5551.00</td>\n",
              "      <td>735.6600</td>\n",
              "      <td>7185.800</td>\n",
              "      <td>19100</td>\n",
              "      <td>1.44</td>\n",
              "      <td>76.8</td>\n",
              "      <td>2.13</td>\n",
              "      <td>12200</td>\n",
              "    </tr>\n",
              "  </tbody>\n",
              "</table>\n",
              "</div>"
            ],
            "text/plain": [
              "               country  child_mort  exports  ...  life_expec  total_fer   gdpp\n",
              "0          Afghanistan        90.2    55.30  ...        56.2       5.82    553\n",
              "1              Albania        16.6  1145.20  ...        76.3       1.65   4090\n",
              "2              Algeria        27.3  1712.64  ...        76.5       2.89   4460\n",
              "3               Angola       119.0  2199.19  ...        60.1       6.16   3530\n",
              "4  Antigua and Barbuda        10.3  5551.00  ...        76.8       2.13  12200\n",
              "\n",
              "[5 rows x 10 columns]"
            ]
          },
          "metadata": {
            "tags": []
          },
          "execution_count": 8
        }
      ]
    },
    {
      "cell_type": "code",
      "metadata": {
        "colab": {
          "base_uri": "https://localhost:8080/"
        },
        "id": "eZESoadmD0Wp",
        "outputId": "a7387e8f-ada3-40dc-d533-4fff2c2f4924"
      },
      "source": [
        "dat.shape"
      ],
      "execution_count": 9,
      "outputs": [
        {
          "output_type": "execute_result",
          "data": {
            "text/plain": [
              "(167, 10)"
            ]
          },
          "metadata": {
            "tags": []
          },
          "execution_count": 9
        }
      ]
    },
    {
      "cell_type": "code",
      "metadata": {
        "colab": {
          "base_uri": "https://localhost:8080/"
        },
        "id": "UPooflSQD4Oc",
        "outputId": "57e06316-f5e1-4b24-9918-2c737674bb14"
      },
      "source": [
        "dat.info()"
      ],
      "execution_count": 10,
      "outputs": [
        {
          "output_type": "stream",
          "text": [
            "<class 'pandas.core.frame.DataFrame'>\n",
            "RangeIndex: 167 entries, 0 to 166\n",
            "Data columns (total 10 columns):\n",
            " #   Column      Non-Null Count  Dtype  \n",
            "---  ------      --------------  -----  \n",
            " 0   country     167 non-null    object \n",
            " 1   child_mort  167 non-null    float64\n",
            " 2   exports     167 non-null    float64\n",
            " 3   health      167 non-null    float64\n",
            " 4   imports     167 non-null    float64\n",
            " 5   income      167 non-null    int64  \n",
            " 6   inflation   167 non-null    float64\n",
            " 7   life_expec  167 non-null    float64\n",
            " 8   total_fer   167 non-null    float64\n",
            " 9   gdpp        167 non-null    int64  \n",
            "dtypes: float64(7), int64(2), object(1)\n",
            "memory usage: 13.2+ KB\n"
          ],
          "name": "stdout"
        }
      ]
    },
    {
      "cell_type": "code",
      "metadata": {
        "colab": {
          "base_uri": "https://localhost:8080/"
        },
        "id": "QTRWNc_RD-86",
        "outputId": "b554b29e-15b6-42d8-81d6-f182a6c07741"
      },
      "source": [
        "dat.isna().sum()"
      ],
      "execution_count": 11,
      "outputs": [
        {
          "output_type": "execute_result",
          "data": {
            "text/plain": [
              "country       0\n",
              "child_mort    0\n",
              "exports       0\n",
              "health        0\n",
              "imports       0\n",
              "income        0\n",
              "inflation     0\n",
              "life_expec    0\n",
              "total_fer     0\n",
              "gdpp          0\n",
              "dtype: int64"
            ]
          },
          "metadata": {
            "tags": []
          },
          "execution_count": 11
        }
      ]
    },
    {
      "cell_type": "code",
      "metadata": {
        "colab": {
          "base_uri": "https://localhost:8080/",
          "height": 615
        },
        "id": "qOKPPdnYE_CA",
        "outputId": "6aa25c0c-cf4e-4ba9-ed69-513c683f5679"
      },
      "source": [
        "#first  plot the correlation matrix and check if the data is indeed highly correlated\r\n",
        "#so that the usage of PCA in this scenario is justified\r\n",
        "plt.figure(figsize = (20,10))        \r\n",
        "sns.heatmap(dat.corr(),annot = True)"
      ],
      "execution_count": 12,
      "outputs": [
        {
          "output_type": "execute_result",
          "data": {
            "text/plain": [
              "<matplotlib.axes._subplots.AxesSubplot at 0x7f40b45a3358>"
            ]
          },
          "metadata": {
            "tags": []
          },
          "execution_count": 12
        },
        {
          "output_type": "display_data",
          "data": {
            "image/png": "[encoded data removed]",
            "text/plain": [
              "<Figure size 1440x720 with 2 Axes>"
            ]
          },
          "metadata": {
            "tags": [],
            "needs_background": "light"
          }
        }
      ]
    },
    {
      "cell_type": "code",
      "metadata": {
        "colab": {
          "base_uri": "https://localhost:8080/",
          "height": 198
        },
        "id": "_1-Pf7hUEN-g",
        "outputId": "624629d5-c9da-488c-c8ad-9981c7a3ef8f"
      },
      "source": [
        "#The final matrix would only contain the data columns. Hence  drop the country column\r\n",
        "datm=dat.drop(['country'],axis=1)\r\n",
        "datm.head()"
      ],
      "execution_count": 13,
      "outputs": [
        {
          "output_type": "execute_result",
          "data": {
            "text/html": [
              "<div>\n",
              "<style scoped>\n",
              "    .dataframe tbody tr th:only-of-type {\n",
              "        vertical-align: middle;\n",
              "    }\n",
              "\n",
              "    .dataframe tbody tr th {\n",
              "        vertical-align: top;\n",
              "    }\n",
              "\n",
              "    .dataframe thead th {\n",
              "        text-align: right;\n",
              "    }\n",
              "</style>\n",
              "<table border=\"1\" class=\"dataframe\">\n",
              "  <thead>\n",
              "    <tr style=\"text-align: right;\">\n",
              "      <th></th>\n",
              "      <th>child_mort</th>\n",
              "      <th>exports</th>\n",
              "      <th>health</th>\n",
              "      <th>imports</th>\n",
              "      <th>income</th>\n",
              "      <th>inflation</th>\n",
              "      <th>life_expec</th>\n",
              "      <th>total_fer</th>\n",
              "      <th>gdpp</th>\n",
              "    </tr>\n",
              "  </thead>\n",
              "  <tbody>\n",
              "    <tr>\n",
              "      <th>0</th>\n",
              "      <td>90.2</td>\n",
              "      <td>55.30</td>\n",
              "      <td>41.9174</td>\n",
              "      <td>248.297</td>\n",
              "      <td>1610</td>\n",
              "      <td>9.44</td>\n",
              "      <td>56.2</td>\n",
              "      <td>5.82</td>\n",
              "      <td>553</td>\n",
              "    </tr>\n",
              "    <tr>\n",
              "      <th>1</th>\n",
              "      <td>16.6</td>\n",
              "      <td>1145.20</td>\n",
              "      <td>267.8950</td>\n",
              "      <td>1987.740</td>\n",
              "      <td>9930</td>\n",
              "      <td>4.49</td>\n",
              "      <td>76.3</td>\n",
              "      <td>1.65</td>\n",
              "      <td>4090</td>\n",
              "    </tr>\n",
              "    <tr>\n",
              "      <th>2</th>\n",
              "      <td>27.3</td>\n",
              "      <td>1712.64</td>\n",
              "      <td>185.9820</td>\n",
              "      <td>1400.440</td>\n",
              "      <td>12900</td>\n",
              "      <td>16.10</td>\n",
              "      <td>76.5</td>\n",
              "      <td>2.89</td>\n",
              "      <td>4460</td>\n",
              "    </tr>\n",
              "    <tr>\n",
              "      <th>3</th>\n",
              "      <td>119.0</td>\n",
              "      <td>2199.19</td>\n",
              "      <td>100.6050</td>\n",
              "      <td>1514.370</td>\n",
              "      <td>5900</td>\n",
              "      <td>22.40</td>\n",
              "      <td>60.1</td>\n",
              "      <td>6.16</td>\n",
              "      <td>3530</td>\n",
              "    </tr>\n",
              "    <tr>\n",
              "      <th>4</th>\n",
              "      <td>10.3</td>\n",
              "      <td>5551.00</td>\n",
              "      <td>735.6600</td>\n",
              "      <td>7185.800</td>\n",
              "      <td>19100</td>\n",
              "      <td>1.44</td>\n",
              "      <td>76.8</td>\n",
              "      <td>2.13</td>\n",
              "      <td>12200</td>\n",
              "    </tr>\n",
              "  </tbody>\n",
              "</table>\n",
              "</div>"
            ],
            "text/plain": [
              "   child_mort  exports    health  ...  life_expec  total_fer   gdpp\n",
              "0        90.2    55.30   41.9174  ...        56.2       5.82    553\n",
              "1        16.6  1145.20  267.8950  ...        76.3       1.65   4090\n",
              "2        27.3  1712.64  185.9820  ...        76.5       2.89   4460\n",
              "3       119.0  2199.19  100.6050  ...        60.1       6.16   3530\n",
              "4        10.3  5551.00  735.6600  ...        76.8       2.13  12200\n",
              "\n",
              "[5 rows x 9 columns]"
            ]
          },
          "metadata": {
            "tags": []
          },
          "execution_count": 13
        }
      ]
    },
    {
      "cell_type": "code",
      "metadata": {
        "id": "2CpvKxLZEdRC"
      },
      "source": [
        "X = datm.iloc[:,0:-1].values\r\n",
        "y = datm.iloc[:,8].values"
      ],
      "execution_count": 14,
      "outputs": []
    },
    {
      "cell_type": "code",
      "metadata": {
        "colab": {
          "base_uri": "https://localhost:8080/"
        },
        "id": "9ePjlkT9Nuwv",
        "outputId": "d6923044-bc88-4610-b4ab-0b4f574470d5"
      },
      "source": [
        "from sklearn.model_selection import train_test_split\r\n",
        "x_train,x_test,y_train,y_test=train_test_split(X,y,test_size=0.2,random_state=7)\r\n",
        "x_train.shape"
      ],
      "execution_count": 15,
      "outputs": [
        {
          "output_type": "execute_result",
          "data": {
            "text/plain": [
              "(133, 8)"
            ]
          },
          "metadata": {
            "tags": []
          },
          "execution_count": 15
        }
      ]
    },
    {
      "cell_type": "code",
      "metadata": {
        "colab": {
          "base_uri": "https://localhost:8080/"
        },
        "id": "20W-RPrTEn8Q",
        "outputId": "6c98874c-b260-4e91-ed27-cf24664f492e"
      },
      "source": [
        "X"
      ],
      "execution_count": 16,
      "outputs": [
        {
          "output_type": "execute_result",
          "data": {
            "text/plain": [
              "array([[9.02000e+01, 5.53000e+01, 4.19174e+01, ..., 9.44000e+00,\n",
              "        5.62000e+01, 5.82000e+00],\n",
              "       [1.66000e+01, 1.14520e+03, 2.67895e+02, ..., 4.49000e+00,\n",
              "        7.63000e+01, 1.65000e+00],\n",
              "       [2.73000e+01, 1.71264e+03, 1.85982e+02, ..., 1.61000e+01,\n",
              "        7.65000e+01, 2.89000e+00],\n",
              "       ...,\n",
              "       [2.33000e+01, 9.43200e+02, 8.96040e+01, ..., 1.21000e+01,\n",
              "        7.31000e+01, 1.95000e+00],\n",
              "       [5.63000e+01, 3.93000e+02, 6.78580e+01, ..., 2.36000e+01,\n",
              "        6.75000e+01, 4.67000e+00],\n",
              "       [8.31000e+01, 5.40200e+02, 8.59940e+01, ..., 1.40000e+01,\n",
              "        5.20000e+01, 5.40000e+00]])"
            ]
          },
          "metadata": {
            "tags": []
          },
          "execution_count": 16
        }
      ]
    },
    {
      "cell_type": "code",
      "metadata": {
        "colab": {
          "base_uri": "https://localhost:8080/"
        },
        "id": "XhgTuVcAEyJv",
        "outputId": "d83cecfb-d9e8-4786-873d-78a2ce68615c"
      },
      "source": [
        "y"
      ],
      "execution_count": 17,
      "outputs": [
        {
          "output_type": "execute_result",
          "data": {
            "text/plain": [
              "array([   553,   4090,   4460,   3530,  12200,  10300,   3220,  51900,\n",
              "        46900,   5840,  28000,  20700,    758,  16000,   6030,  44400,\n",
              "         4340,    758,   2180,   1980,   4610,   6350,  11200,  35300,\n",
              "         6840,    575,    231,    786,   1310,  47400,   3310,    446,\n",
              "          897,  12900,   4560,   6250,    769,    334,   2740,   8200,\n",
              "         1220,  13500,  30800,  19800,  58000,   5450,   4660,   2600,\n",
              "         2990,  17100,    482,  14600,   3650,  46200,  40600,   8750,\n",
              "          562,   2960,  41800,   1310,  26900,   7370,   2830,    648,\n",
              "          547,   3040,    662,  13100,  41900,   1350,   3110,   6530,\n",
              "         4500,  48700,  30600,  35800,   4680,  44500,   3680,   9070,\n",
              "          967,   1490,  38500,    880,   1140,  11300,   8860,   1170,\n",
              "          327,  12100,  12000, 105000,   4540,    413,    459,   9070,\n",
              "         7100,    708,  21100,   1200,   8000,   2860,   1630,   2650,\n",
              "         6680,   2830,    419,    988,   5190,    592,  50300,  33700,\n",
              "          348,   2330,  87800,  19300,   1040,   8080,   3230,   5020,\n",
              "         2130,  12600,  22500,  70300,   8230,  10700,    563,   3450,\n",
              "        19300,   1000,   5410,  10800,    399,  46600,  16600,  23400,\n",
              "         1290,   7280,  22100,  30700,   2810,   6230,   1480,   8300,\n",
              "        52100,  74600,    738,    702,   5080,   3600,    488,   3550,\n",
              "         4140,  10700,   4440,    595,   2970,  35000,  38900,  48400,\n",
              "        11900,   1380,   2970,  13500,   1310,   1310,   1460])"
            ]
          },
          "metadata": {
            "tags": []
          },
          "execution_count": 17
        }
      ]
    },
    {
      "cell_type": "code",
      "metadata": {
        "colab": {
          "base_uri": "https://localhost:8080/"
        },
        "id": "k4rrqxUfFOwn",
        "outputId": "fc9e576b-037c-4526-f472-b6d799ab0183"
      },
      "source": [
        "# do rescaling so that PCA can be applied.\r\n",
        "from sklearn.preprocessing import StandardScaler\r\n",
        "standard_scaler = StandardScaler()\r\n",
        "dat2 = standard_scaler.fit_transform(x_train)\r\n",
        "dat2"
      ],
      "execution_count": 18,
      "outputs": [
        {
          "output_type": "execute_result",
          "data": {
            "text/plain": [
              "array([[-0.84603846, -0.06539477,  0.65691432, ..., -0.64850129,\n",
              "         1.01452782, -1.03541561],\n",
              "       [ 1.28542148, -0.40261812, -0.57716042, ..., -0.20433092,\n",
              "        -1.08498229,  1.39831517],\n",
              "       [ 1.75214632, -0.39106391, -0.56266554, ..., -0.53191462,\n",
              "        -1.47173415,  1.4586556 ],\n",
              "       ...,\n",
              "       [-0.50909807, -0.3835059 , -0.50554002, ..., -0.36904295,\n",
              "        -0.07942745,  0.6541165 ],\n",
              "       [-0.79362551,  0.13639656, -0.11033599, ..., -0.4932671 ,\n",
              "         0.428875  , -1.1292785 ],\n",
              "       [ 1.9518147 , -0.40019241, -0.57707482, ..., -0.08102694,\n",
              "        -1.40543383,  1.96819703]])"
            ]
          },
          "metadata": {
            "tags": []
          },
          "execution_count": 18
        }
      ]
    },
    {
      "cell_type": "code",
      "metadata": {
        "id": "TAjhoIvEFZ6X"
      },
      "source": [
        "#Importing the PCA module\r\n",
        "from sklearn.decomposition import PCA\r\n",
        "pca = PCA(6)"
      ],
      "execution_count": 19,
      "outputs": []
    },
    {
      "cell_type": "code",
      "metadata": {
        "colab": {
          "base_uri": "https://localhost:8080/"
        },
        "id": "_Ox4XGCHFfkP",
        "outputId": "54466b22-4e49-4140-b5fc-ee9d129624d7"
      },
      "source": [
        "pca.fit(dat2)"
      ],
      "execution_count": 20,
      "outputs": [
        {
          "output_type": "execute_result",
          "data": {
            "text/plain": [
              "PCA(copy=True, iterated_power='auto', n_components=6, random_state=None,\n",
              "    svd_solver='auto', tol=0.0, whiten=False)"
            ]
          },
          "metadata": {
            "tags": []
          },
          "execution_count": 20
        }
      ]
    },
    {
      "cell_type": "code",
      "metadata": {
        "colab": {
          "base_uri": "https://localhost:8080/"
        },
        "id": "GeQqwxzRg9N_",
        "outputId": "c3dbe6ee-bfe3-42b3-8cc7-31d11606c421"
      },
      "source": [
        "dat2.shape"
      ],
      "execution_count": 21,
      "outputs": [
        {
          "output_type": "execute_result",
          "data": {
            "text/plain": [
              "(133, 8)"
            ]
          },
          "metadata": {
            "tags": []
          },
          "execution_count": 21
        }
      ]
    },
    {
      "cell_type": "code",
      "metadata": {
        "id": "dmkuH5RYgxWw"
      },
      "source": [
        "x_projected = pca.transform(dat2)"
      ],
      "execution_count": 22,
      "outputs": []
    },
    {
      "cell_type": "code",
      "metadata": {
        "colab": {
          "base_uri": "https://localhost:8080/"
        },
        "id": "e-DtuGY9F9vA",
        "outputId": "5424892a-a354-4d6a-e12a-2fea8447de64"
      },
      "source": [
        "pca.components_"
      ],
      "execution_count": 23,
      "outputs": [
        {
          "output_type": "execute_result",
          "data": {
            "text/plain": [
              "array([[-0.36681233,  0.36109291,  0.37165252,  0.36398899,  0.40149562,\n",
              "        -0.16499495,  0.39051777, -0.35145534],\n",
              "       [ 0.43823065,  0.47899587,  0.161761  ,  0.45877554,  0.16454838,\n",
              "         0.18055603, -0.3338221 ,  0.41323285],\n",
              "       [-0.14652699, -0.0059824 , -0.07884561, -0.04336875,  0.12769669,\n",
              "         0.95548633,  0.1885806 , -0.07465501],\n",
              "       [ 0.1619682 , -0.34669297,  0.78276425, -0.34386409,  0.21927428,\n",
              "         0.04766652,  0.07521334,  0.25806503],\n",
              "       [ 0.1457459 , -0.05730821, -0.38028811, -0.2760164 ,  0.84832135,\n",
              "        -0.10964305, -0.14608139, -0.0407348 ],\n",
              "       [ 0.25361463, -0.04326826,  0.23789861, -0.00300141, -0.0543624 ,\n",
              "         0.11026636, -0.52938674, -0.76278336]])"
            ]
          },
          "metadata": {
            "tags": []
          },
          "execution_count": 23
        }
      ]
    },
    {
      "cell_type": "markdown",
      "metadata": {
        "id": "QVV4cfu7GYhg"
      },
      "source": [
        "Scree plot"
      ]
    },
    {
      "cell_type": "code",
      "metadata": {
        "colab": {
          "base_uri": "https://localhost:8080/",
          "height": 497
        },
        "id": "t0ZPebfLGV5n",
        "outputId": "ca614f3b-48b8-4aa8-aae1-4d6e4159a43c"
      },
      "source": [
        "%matplotlib inline\r\n",
        "fig = plt.figure(figsize = (12,8))\r\n",
        "plt.plot(np.cumsum(pca.explained_variance_ratio_))\r\n",
        "plt.xlabel('number of components')\r\n",
        "plt.ylabel('cumulative explained variance')\r\n",
        "plt.show()"
      ],
      "execution_count": 24,
      "outputs": [
        {
          "output_type": "display_data",
          "data": {
            "image/png": "[encoded data removed]",
            "text/plain": [
              "<Figure size 864x576 with 1 Axes>"
            ]
          },
          "metadata": {
            "tags": [],
            "needs_background": "light"
          }
        }
      ]
    },
    {
      "cell_type": "code",
      "metadata": {
        "colab": {
          "base_uri": "https://localhost:8080/"
        },
        "id": "GJoV3aW1cxhJ",
        "outputId": "88a1d182-70c3-4ff3-8471-ba9dfb20dae2"
      },
      "source": [
        "from sklearn.linear_model import LinearRegression\r\n",
        "from sklearn.metrics import r2_score,mean_squared_error\r\n",
        "linearR = LinearRegression()\r\n",
        "linearR.fit(x_projected,y_train)"
      ],
      "execution_count": 25,
      "outputs": [
        {
          "output_type": "execute_result",
          "data": {
            "text/plain": [
              "LinearRegression(copy_X=True, fit_intercept=True, n_jobs=None, normalize=False)"
            ]
          },
          "metadata": {
            "tags": []
          },
          "execution_count": 25
        }
      ]
    },
    {
      "cell_type": "code",
      "metadata": {
        "colab": {
          "base_uri": "https://localhost:8080/"
        },
        "id": "ttmDyqQAj3XX",
        "outputId": "dd38735a-5f27-49a1-a9bc-106b69146404"
      },
      "source": [
        "linearR.coef_"
      ],
      "execution_count": 26,
      "outputs": [
        {
          "output_type": "execute_result",
          "data": {
            "text/plain": [
              "array([8320.3044467 , 4518.90148067,   19.48353353, 9746.95814965,\n",
              "       3394.73191455, 1339.10001918])"
            ]
          },
          "metadata": {
            "tags": []
          },
          "execution_count": 26
        }
      ]
    },
    {
      "cell_type": "code",
      "metadata": {
        "colab": {
          "base_uri": "https://localhost:8080/"
        },
        "id": "w1DxLUBWkASk",
        "outputId": "5cf9b274-f3e3-4825-f990-fefc4c579a15"
      },
      "source": [
        "linearR.intercept_"
      ],
      "execution_count": 27,
      "outputs": [
        {
          "output_type": "execute_result",
          "data": {
            "text/plain": [
              "14013.315789473685"
            ]
          },
          "metadata": {
            "tags": []
          },
          "execution_count": 27
        }
      ]
    },
    {
      "cell_type": "markdown",
      "metadata": {
        "id": "Aum7oFwCkM4N"
      },
      "source": [
        "Score = 98%"
      ]
    },
    {
      "cell_type": "code",
      "metadata": {
        "colab": {
          "base_uri": "https://localhost:8080/"
        },
        "id": "kOTNiVV5j94l",
        "outputId": "df2f838f-0930-43b2-dfac-e1c60f104ace"
      },
      "source": [
        "linearR.score(x_projected,y_train)"
      ],
      "execution_count": 28,
      "outputs": [
        {
          "output_type": "execute_result",
          "data": {
            "text/plain": [
              "0.9800351361713036"
            ]
          },
          "metadata": {
            "tags": []
          },
          "execution_count": 28
        }
      ]
    },
    {
      "cell_type": "code",
      "metadata": {
        "colab": {
          "base_uri": "https://localhost:8080/"
        },
        "id": "fnR_saLEGUMp",
        "outputId": "68f6a36f-ed75-47d2-e40c-ebd66203d10b"
      },
      "source": [
        "pca.explained_variance_ratio_"
      ],
      "execution_count": 29,
      "outputs": [
        {
          "output_type": "execute_result",
          "data": {
            "text/plain": [
              "array([0.56446994, 0.19248711, 0.1122238 , 0.05653322, 0.03348804,\n",
              "       0.02999693])"
            ]
          },
          "metadata": {
            "tags": []
          },
          "execution_count": 29
        }
      ]
    },
    {
      "cell_type": "markdown",
      "metadata": {
        "id": "17a476QyNvXW"
      },
      "source": [
        "Manual implemention of PCA"
      ]
    },
    {
      "cell_type": "code",
      "metadata": {
        "id": "c4t3n4j3bXvy"
      },
      "source": [
        "class PCA:\r\n",
        "  def init(self,Ncomponent):\r\n",
        "    self.Ncomponent = Ncomponent\r\n",
        "    self.components=None\r\n",
        "    self.mean= None\r\n",
        "\r\n",
        "  def fit (self,X):\r\n",
        "    self.mean = np.mean(X,axis = 0)\r\n",
        "    X =X - self.mean\r\n",
        "\r\n",
        "    cov = np.cov(X.T)\r\n",
        "    eigenvalues,eigenvector=np.linalg.eig(cov)\r\n",
        "    eigenvectors = eigenvectors.T\r\n",
        "    idxs = np.argsort(eigenvalues)[::-1]\r\n",
        "    eigenvalues = eigenvalues[idxs]\r\n",
        "    eigenvector = eigenvector[idxs]\r\n",
        "    self.components = eigenvectors[0:self.Ncomponent]\r\n",
        "    print(\"Reduced information\",self.components)\r\n",
        "\r\n",
        "  def transform(self,X):\r\n",
        "    X= X - self.mean\r\n",
        "    return np.dot(X, self.components.T)"
      ],
      "execution_count": null,
      "outputs": []
    },
    {
      "cell_type": "code",
      "metadata": {
        "id": "ZG-ly66qbLtu"
      },
      "source": [
        "dat_train = standard_scaler.fit_transform(x_train)"
      ],
      "execution_count": 44,
      "outputs": []
    },
    {
      "cell_type": "code",
      "metadata": {
        "colab": {
          "base_uri": "https://localhost:8080/"
        },
        "id": "uMBYXhO0Tdh1",
        "outputId": "bbe5b611-9204-46fc-841e-67b0f09d9d02"
      },
      "source": [
        "pca = PCA(6)\r\n",
        "pca.fit(dat_test)"
      ],
      "execution_count": 45,
      "outputs": [
        {
          "output_type": "execute_result",
          "data": {
            "text/plain": [
              "PCA(copy=True, iterated_power='auto', n_components=6, random_state=None,\n",
              "    svd_solver='auto', tol=0.0, whiten=False)"
            ]
          },
          "metadata": {
            "tags": []
          },
          "execution_count": 45
        }
      ]
    },
    {
      "cell_type": "code",
      "metadata": {
        "colab": {
          "base_uri": "https://localhost:8080/"
        },
        "id": "bWsKgrTDU_Y0",
        "outputId": "67a1647c-15a2-4e2c-a3d8-4fd7d182a3df"
      },
      "source": [
        "x_pro = pca.transform(dat_train)\r\n",
        "x_pro.shape"
      ],
      "execution_count": 47,
      "outputs": [
        {
          "output_type": "execute_result",
          "data": {
            "text/plain": [
              "(133, 6)"
            ]
          },
          "metadata": {
            "tags": []
          },
          "execution_count": 47
        }
      ]
    },
    {
      "cell_type": "code",
      "metadata": {
        "colab": {
          "base_uri": "https://localhost:8080/"
        },
        "id": "eNmbCebaT_JS",
        "outputId": "35d412b8-1105-410b-c60d-9685c78238f8"
      },
      "source": [
        "linearR.fit(x_pro,y_train)"
      ],
      "execution_count": 48,
      "outputs": [
        {
          "output_type": "execute_result",
          "data": {
            "text/plain": [
              "LinearRegression(copy_X=True, fit_intercept=True, n_jobs=None, normalize=False)"
            ]
          },
          "metadata": {
            "tags": []
          },
          "execution_count": 48
        }
      ]
    },
    {
      "cell_type": "markdown",
      "metadata": {
        "id": "VhVkkngoWzhD"
      },
      "source": [
        "Score 97.95%"
      ]
    },
    {
      "cell_type": "code",
      "metadata": {
        "colab": {
          "base_uri": "https://localhost:8080/"
        },
        "id": "b7eJU-FRVqoa",
        "outputId": "154067e3-968d-475c-a02d-29991222117d"
      },
      "source": [
        "linearR.score(x_pro,y_train)"
      ],
      "execution_count": 51,
      "outputs": [
        {
          "output_type": "execute_result",
          "data": {
            "text/plain": [
              "0.9795494361958195"
            ]
          },
          "metadata": {
            "tags": []
          },
          "execution_count": 51
        }
      ]
    },
    {
      "cell_type": "markdown",
      "metadata": {
        "id": "F-c95kOyW3oX"
      },
      "source": [
        ""
      ]
    }
  ]
}